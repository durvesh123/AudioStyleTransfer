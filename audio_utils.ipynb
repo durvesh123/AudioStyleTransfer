{
 "cells": [
  {
   "cell_type": "markdown",
   "metadata": {
    "colab_type": "text",
    "id": "Ms2uvqD9isiY"
   },
   "source": [
    "This notebook contains audio util class that has methods to perform preprocessing on raw audio files like converting raw audio to spectrogram and vice-versa"
   ]
  },
  {
   "cell_type": "code",
   "execution_count": 1,
   "metadata": {
    "colab": {
     "base_uri": "https://localhost:8080/",
     "height": 224
    },
    "colab_type": "code",
    "id": "VkrlhAnpnX1l",
    "outputId": "2ffdc401-617d-49b6-e9c2-da213aa58210"
   },
   "outputs": [],
   "source": [
    "import librosa\n",
    "import numpy as np"
   ]
  },
  {
   "cell_type": "code",
   "execution_count": 2,
   "metadata": {
    "colab": {},
    "colab_type": "code",
    "id": "hTNnyNV2hPs9"
   },
   "outputs": [],
   "source": [
    "class AudioUtils():\n",
    "  \n",
    "  def wave_to_spectrogram(self, file_name, n_fft = 2048):\n",
    "    \"\"\"\n",
    "    Function Parameters:\n",
    "    file_name, str: Name or path to file.\n",
    "    n_fft, int: Window size for fast fourier transformation.\n",
    "    Return:\n",
    "    s: Spectrogram matrix\n",
    "    sampling_rate: Rate of sampling\n",
    "    \"\"\"\n",
    "    audio_time_series , sampling_rate  = librosa.load(file_name)\n",
    "    \n",
    "    s = librosa.stft(audio_time_series, n_fft)\n",
    "    p = np.angle(s)\n",
    "    \n",
    "    s = np.log1p(np.abs(s[:,:430]))  \n",
    "    \n",
    "    return s, sampling_rate\n",
    "  \n",
    "  \n",
    "  def spectrogram_to_wave(self, a, n_fft, output_file_name, sampling_rate):\n",
    "    \"\"\"\n",
    "    Function Parameters:\n",
    "    a: signal  \n",
    "    n_fft: FFT window size\n",
    "    output_file_name: name of the file to write to\n",
    "    sampling_rate: Rate of sampling\n",
    "    \"\"\"\n",
    "    # This code is supposed to do phase reconstruction\n",
    "    p = 2 * np.pi * np.random.random_sample(a.shape) - np.pi\n",
    "    for i in range(500):\n",
    "        S = a * np.exp(1j*p)\n",
    "        x = librosa.istft(S)\n",
    "        p = np.angle(librosa.stft(x, n_fft))\n",
    "\n",
    "    librosa.output.write_wav(output_file_name, x, sampling_rate)"
   ]
  },
  {
   "cell_type": "code",
   "execution_count": null,
   "metadata": {},
   "outputs": [],
   "source": []
  }
 ],
 "metadata": {
  "colab": {
   "collapsed_sections": [],
   "name": "audio_utils",
   "provenance": [],
   "version": "0.3.2"
  },
  "kernelspec": {
   "display_name": "Python 3",
   "language": "python",
   "name": "python3"
  },
  "language_info": {
   "codemirror_mode": {
    "name": "ipython",
    "version": 3
   },
   "file_extension": ".py",
   "mimetype": "text/x-python",
   "name": "python",
   "nbconvert_exporter": "python",
   "pygments_lexer": "ipython3",
   "version": "3.6.4"
  }
 },
 "nbformat": 4,
 "nbformat_minor": 1
}
